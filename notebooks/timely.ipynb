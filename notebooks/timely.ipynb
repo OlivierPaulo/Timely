{
 "cells": [
  {
   "cell_type": "code",
   "execution_count": 1,
   "metadata": {},
   "outputs": [],
   "source": [
    "from atlassian import Jira\n",
    "import os\n",
    "import json\n",
    "import pandas as pd\n",
    "from datetime import datetime\n",
    "import matplotlib.pyplot as plt\n",
    "import calendar\n",
    "import datetime"
   ]
  },
  {
   "cell_type": "code",
   "execution_count": 16,
   "metadata": {},
   "outputs": [
    {
     "data": {
      "text/plain": [
       "'https://jira.corporativo.pt'"
      ]
     },
     "execution_count": 16,
     "metadata": {},
     "output_type": "execute_result"
    }
   ],
   "source": [
    "os.environ['JIRA_URL']"
   ]
  },
  {
   "cell_type": "code",
   "execution_count": 23,
   "metadata": {},
   "outputs": [],
   "source": [
    "jira_instance = Jira(\n",
    "    url = os.environ['JIRA_URL'],\n",
    "    username = os.environ['JIRA_USER'],\n",
    "    password = os.environ['JIRA_PWD'],\n",
    ")"
   ]
  },
  {
   "cell_type": "code",
   "execution_count": 24,
   "metadata": {},
   "outputs": [
    {
     "data": {
      "text/plain": [
       "atlassian.jira.Jira"
      ]
     },
     "execution_count": 24,
     "metadata": {},
     "output_type": "execute_result"
    }
   ],
   "source": [
    "type(jira_instance)"
   ]
  },
  {
   "cell_type": "code",
   "execution_count": 25,
   "metadata": {},
   "outputs": [
    {
     "data": {
      "text/plain": [
       "'March'"
      ]
     },
     "execution_count": 25,
     "metadata": {},
     "output_type": "execute_result"
    }
   ],
   "source": [
    "datetime.now().strftime(\"%B\")"
   ]
  },
  {
   "cell_type": "code",
   "execution_count": 26,
   "metadata": {},
   "outputs": [
    {
     "data": {
      "text/plain": [
       "('2022/03/01', '2022/03/31')"
      ]
     },
     "execution_count": 26,
     "metadata": {},
     "output_type": "execute_result"
    }
   ],
   "source": [
    "first_day=f\"{datetime.now().year}/{datetime.now().strftime('%m')}/01\"\n",
    "last_day=f\"{datetime.now().year}/{datetime.now().strftime('%m')}/{calendar.monthrange(datetime.now().year, datetime.now().month)[1]}\"\n",
    "first_day, last_day"
   ]
  },
  {
   "cell_type": "code",
   "execution_count": 27,
   "metadata": {},
   "outputs": [],
   "source": [
    "results = jira_instance.jql(f\"worklogDate >= '{first_day}' AND worklogDate <= '{last_day}' AND worklogAuthor in ('{os.environ['JIRA_USER']}')\")"
   ]
  },
  {
   "cell_type": "code",
   "execution_count": 28,
   "metadata": {},
   "outputs": [
    {
     "data": {
      "text/plain": [
       "dict"
      ]
     },
     "execution_count": 28,
     "metadata": {},
     "output_type": "execute_result"
    }
   ],
   "source": [
    "type(results)"
   ]
  },
  {
   "cell_type": "code",
   "execution_count": 80,
   "metadata": {},
   "outputs": [
    {
     "data": {
      "text/plain": [
       "'Sprint Planning + Rituals Sprint 23'"
      ]
     },
     "execution_count": 80,
     "metadata": {},
     "output_type": "execute_result"
    }
   ],
   "source": [
    "#results['issues'][0]['fields']['summary']"
   ]
  },
  {
   "cell_type": "code",
   "execution_count": 95,
   "metadata": {},
   "outputs": [],
   "source": [
    "#results['issues'][0]['fields']['worklog']['worklogs']"
   ]
  },
  {
   "cell_type": "code",
   "execution_count": 82,
   "metadata": {},
   "outputs": [],
   "source": [
    "timetracks = pd.DataFrame()\n",
    "task_names = []\n",
    "task_date = []\n",
    "task_timeSpent = []\n",
    "\n",
    "for task in results['issues']:\n",
    "    for worklog in task['fields']['worklog']['worklogs']:\n",
    "        task_names.append(f\"[NOS] [{task['key']}] {task['fields']['summary']}\")\n",
    "        task_date.append(worklog['started'][:10])\n",
    "        task_timeSpent.append(worklog['timeSpentSeconds']/3600)\n",
    "\n",
    "timetracks['name'] = task_names\n",
    "timetracks['date'] = task_date\n",
    "timetracks['timeSpent'] = task_timeSpent"
   ]
  },
  {
   "cell_type": "code",
   "execution_count": 83,
   "metadata": {},
   "outputs": [],
   "source": [
    "timetracks.sort_values('date', ascending=True, inplace=True)"
   ]
  },
  {
   "cell_type": "code",
   "execution_count": 84,
   "metadata": {},
   "outputs": [
    {
     "name": "stdout",
     "output_type": "stream",
     "text": [
      "<class 'pandas.core.frame.DataFrame'>\n",
      "Int64Index: 11 entries, 0 to 10\n",
      "Data columns (total 3 columns):\n",
      " #   Column     Non-Null Count  Dtype  \n",
      "---  ------     --------------  -----  \n",
      " 0   name       11 non-null     object \n",
      " 1   date       11 non-null     object \n",
      " 2   timeSpent  11 non-null     float64\n",
      "dtypes: float64(1), object(2)\n",
      "memory usage: 352.0+ bytes\n"
     ]
    }
   ],
   "source": [
    "timetracks.info()"
   ]
  },
  {
   "cell_type": "code",
   "execution_count": 85,
   "metadata": {},
   "outputs": [
    {
     "data": {
      "text/html": [
       "<div>\n",
       "<style scoped>\n",
       "    .dataframe tbody tr th:only-of-type {\n",
       "        vertical-align: middle;\n",
       "    }\n",
       "\n",
       "    .dataframe tbody tr th {\n",
       "        vertical-align: top;\n",
       "    }\n",
       "\n",
       "    .dataframe thead th {\n",
       "        text-align: right;\n",
       "    }\n",
       "</style>\n",
       "<table border=\"1\" class=\"dataframe\">\n",
       "  <thead>\n",
       "    <tr style=\"text-align: right;\">\n",
       "      <th></th>\n",
       "      <th>name</th>\n",
       "      <th>date</th>\n",
       "      <th>timeSpent</th>\n",
       "    </tr>\n",
       "  </thead>\n",
       "  <tbody>\n",
       "    <tr>\n",
       "      <th>0</th>\n",
       "      <td>[NOS] [CRMPUS-304] Sprint Planning + Rituals S...</td>\n",
       "      <td>2022-02-21</td>\n",
       "      <td>1.5</td>\n",
       "    </tr>\n",
       "    <tr>\n",
       "      <th>1</th>\n",
       "      <td>[NOS] [CRMPUS-304] Sprint Planning + Rituals S...</td>\n",
       "      <td>2022-02-22</td>\n",
       "      <td>0.5</td>\n",
       "    </tr>\n",
       "    <tr>\n",
       "      <th>2</th>\n",
       "      <td>[NOS] [CRMPUS-304] Sprint Planning + Rituals S...</td>\n",
       "      <td>2022-02-23</td>\n",
       "      <td>0.5</td>\n",
       "    </tr>\n",
       "    <tr>\n",
       "      <th>8</th>\n",
       "      <td>[NOS] [CRMPUS-302] Chapter DS</td>\n",
       "      <td>2022-02-23</td>\n",
       "      <td>0.5</td>\n",
       "    </tr>\n",
       "    <tr>\n",
       "      <th>3</th>\n",
       "      <td>[NOS] [CRMPUS-304] Sprint Planning + Rituals S...</td>\n",
       "      <td>2022-02-24</td>\n",
       "      <td>1.5</td>\n",
       "    </tr>\n",
       "    <tr>\n",
       "      <th>7</th>\n",
       "      <td>[NOS] [CRMPUS-302] Chapter DS</td>\n",
       "      <td>2022-02-24</td>\n",
       "      <td>4.5</td>\n",
       "    </tr>\n",
       "    <tr>\n",
       "      <th>4</th>\n",
       "      <td>[NOS] [CRMPUS-304] Sprint Planning + Rituals S...</td>\n",
       "      <td>2022-02-25</td>\n",
       "      <td>1.5</td>\n",
       "    </tr>\n",
       "    <tr>\n",
       "      <th>9</th>\n",
       "      <td>[NOS] [CRMPUS-302] Chapter DS</td>\n",
       "      <td>2022-02-25</td>\n",
       "      <td>0.5</td>\n",
       "    </tr>\n",
       "    <tr>\n",
       "      <th>5</th>\n",
       "      <td>[NOS] [CRMPUS-304] Sprint Planning + Rituals S...</td>\n",
       "      <td>2022-02-28</td>\n",
       "      <td>1.0</td>\n",
       "    </tr>\n",
       "    <tr>\n",
       "      <th>6</th>\n",
       "      <td>[NOS] [CRMPUS-304] Sprint Planning + Rituals S...</td>\n",
       "      <td>2022-03-02</td>\n",
       "      <td>1.0</td>\n",
       "    </tr>\n",
       "    <tr>\n",
       "      <th>10</th>\n",
       "      <td>[NOS] [CRMPUS-302] Chapter DS</td>\n",
       "      <td>2022-03-02</td>\n",
       "      <td>2.5</td>\n",
       "    </tr>\n",
       "  </tbody>\n",
       "</table>\n",
       "</div>"
      ],
      "text/plain": [
       "                                                 name        date  timeSpent\n",
       "0   [NOS] [CRMPUS-304] Sprint Planning + Rituals S...  2022-02-21        1.5\n",
       "1   [NOS] [CRMPUS-304] Sprint Planning + Rituals S...  2022-02-22        0.5\n",
       "2   [NOS] [CRMPUS-304] Sprint Planning + Rituals S...  2022-02-23        0.5\n",
       "8                       [NOS] [CRMPUS-302] Chapter DS  2022-02-23        0.5\n",
       "3   [NOS] [CRMPUS-304] Sprint Planning + Rituals S...  2022-02-24        1.5\n",
       "7                       [NOS] [CRMPUS-302] Chapter DS  2022-02-24        4.5\n",
       "4   [NOS] [CRMPUS-304] Sprint Planning + Rituals S...  2022-02-25        1.5\n",
       "9                       [NOS] [CRMPUS-302] Chapter DS  2022-02-25        0.5\n",
       "5   [NOS] [CRMPUS-304] Sprint Planning + Rituals S...  2022-02-28        1.0\n",
       "6   [NOS] [CRMPUS-304] Sprint Planning + Rituals S...  2022-03-02        1.0\n",
       "10                      [NOS] [CRMPUS-302] Chapter DS  2022-03-02        2.5"
      ]
     },
     "execution_count": 85,
     "metadata": {},
     "output_type": "execute_result"
    }
   ],
   "source": [
    "timetracks"
   ]
  },
  {
   "cell_type": "code",
   "execution_count": 87,
   "metadata": {},
   "outputs": [
    {
     "data": {
      "text/plain": [
       "'2022-03-01'"
      ]
     },
     "execution_count": 87,
     "metadata": {},
     "output_type": "execute_result"
    }
   ],
   "source": [
    "first_day.replace('/','-')"
   ]
  },
  {
   "cell_type": "code",
   "execution_count": 88,
   "metadata": {},
   "outputs": [
    {
     "data": {
      "text/html": [
       "<div>\n",
       "<style scoped>\n",
       "    .dataframe tbody tr th:only-of-type {\n",
       "        vertical-align: middle;\n",
       "    }\n",
       "\n",
       "    .dataframe tbody tr th {\n",
       "        vertical-align: top;\n",
       "    }\n",
       "\n",
       "    .dataframe thead th {\n",
       "        text-align: right;\n",
       "    }\n",
       "</style>\n",
       "<table border=\"1\" class=\"dataframe\">\n",
       "  <thead>\n",
       "    <tr style=\"text-align: right;\">\n",
       "      <th></th>\n",
       "      <th>name</th>\n",
       "      <th>date</th>\n",
       "      <th>timeSpent</th>\n",
       "    </tr>\n",
       "  </thead>\n",
       "  <tbody>\n",
       "    <tr>\n",
       "      <th>6</th>\n",
       "      <td>[NOS] [CRMPUS-304] Sprint Planning + Rituals S...</td>\n",
       "      <td>2022-03-02</td>\n",
       "      <td>1.0</td>\n",
       "    </tr>\n",
       "    <tr>\n",
       "      <th>10</th>\n",
       "      <td>[NOS] [CRMPUS-302] Chapter DS</td>\n",
       "      <td>2022-03-02</td>\n",
       "      <td>2.5</td>\n",
       "    </tr>\n",
       "  </tbody>\n",
       "</table>\n",
       "</div>"
      ],
      "text/plain": [
       "                                                 name        date  timeSpent\n",
       "6   [NOS] [CRMPUS-304] Sprint Planning + Rituals S...  2022-03-02        1.0\n",
       "10                      [NOS] [CRMPUS-302] Chapter DS  2022-03-02        2.5"
      ]
     },
     "execution_count": 88,
     "metadata": {},
     "output_type": "execute_result"
    }
   ],
   "source": [
    "timetracks_month = timetracks[timetracks['date'] >= first_day.replace('/','-')]\n",
    "timetracks_month"
   ]
  },
  {
   "cell_type": "code",
   "execution_count": 89,
   "metadata": {},
   "outputs": [],
   "source": [
    "timetracks_month.to_csv(f'data/{datetime.now().strftime(\"%B\")}{datetime.now().year}.csv', index=False, encoding='utf-8')"
   ]
  },
  {
   "cell_type": "code",
   "execution_count": 92,
   "metadata": {},
   "outputs": [],
   "source": [
    "cum_task_time = timetracks_month.groupby('name').agg({'timeSpent': 'sum'}).reset_index().sort_values('timeSpent', ascending=False)"
   ]
  },
  {
   "cell_type": "code",
   "execution_count": 110,
   "metadata": {},
   "outputs": [
    {
     "data": {
      "image/png": "[encoded data removed]",
      "text/plain": [
       "<Figure size 432x288 with 1 Axes>"
      ]
     },
     "metadata": {
      "needs_background": "light"
     },
     "output_type": "display_data"
    }
   ],
   "source": [
    "cum_task_time.plot(kind='bar')\n",
    "plt.savefig(f'data/distribution_timespent_tasks_{datetime.now().strftime(\"%B\")}{datetime.now().year}.png')"
   ]
  },
  {
   "cell_type": "code",
   "execution_count": 94,
   "metadata": {},
   "outputs": [
    {
     "data": {
      "text/html": [
       "<div>\n",
       "<style scoped>\n",
       "    .dataframe tbody tr th:only-of-type {\n",
       "        vertical-align: middle;\n",
       "    }\n",
       "\n",
       "    .dataframe tbody tr th {\n",
       "        vertical-align: top;\n",
       "    }\n",
       "\n",
       "    .dataframe thead th {\n",
       "        text-align: right;\n",
       "    }\n",
       "</style>\n",
       "<table border=\"1\" class=\"dataframe\">\n",
       "  <thead>\n",
       "    <tr style=\"text-align: right;\">\n",
       "      <th></th>\n",
       "      <th>name</th>\n",
       "      <th>timeSpent</th>\n",
       "    </tr>\n",
       "  </thead>\n",
       "  <tbody>\n",
       "    <tr>\n",
       "      <th>0</th>\n",
       "      <td>[NOS] [CRMPUS-302] Chapter DS</td>\n",
       "      <td>2.5</td>\n",
       "    </tr>\n",
       "    <tr>\n",
       "      <th>1</th>\n",
       "      <td>[NOS] [CRMPUS-304] Sprint Planning + Rituals S...</td>\n",
       "      <td>1.0</td>\n",
       "    </tr>\n",
       "  </tbody>\n",
       "</table>\n",
       "</div>"
      ],
      "text/plain": [
       "                                                name  timeSpent\n",
       "0                      [NOS] [CRMPUS-302] Chapter DS        2.5\n",
       "1  [NOS] [CRMPUS-304] Sprint Planning + Rituals S...        1.0"
      ]
     },
     "execution_count": 94,
     "metadata": {},
     "output_type": "execute_result"
    }
   ],
   "source": [
    "timetracks_month.groupby('name').agg({'timeSpent': 'sum'}).reset_index().sort_values('timeSpent', ascending=False)"
   ]
  },
  {
   "cell_type": "code",
   "execution_count": 2,
   "metadata": {},
   "outputs": [],
   "source": [
    "march = pd.read_csv('data/March2022.csv')"
   ]
  },
  {
   "cell_type": "code",
   "execution_count": 3,
   "metadata": {},
   "outputs": [
    {
     "data": {
      "text/html": [
       "<div>\n",
       "<style scoped>\n",
       "    .dataframe tbody tr th:only-of-type {\n",
       "        vertical-align: middle;\n",
       "    }\n",
       "\n",
       "    .dataframe tbody tr th {\n",
       "        vertical-align: top;\n",
       "    }\n",
       "\n",
       "    .dataframe thead th {\n",
       "        text-align: right;\n",
       "    }\n",
       "</style>\n",
       "<table border=\"1\" class=\"dataframe\">\n",
       "  <thead>\n",
       "    <tr style=\"text-align: right;\">\n",
       "      <th></th>\n",
       "      <th>name</th>\n",
       "      <th>date</th>\n",
       "      <th>timeSpent</th>\n",
       "    </tr>\n",
       "  </thead>\n",
       "  <tbody>\n",
       "    <tr>\n",
       "      <th>0</th>\n",
       "      <td>[NOS] [CRMPUS-304] Sprint Planning + Rituals S...</td>\n",
       "      <td>2022-03-02</td>\n",
       "      <td>1.0</td>\n",
       "    </tr>\n",
       "    <tr>\n",
       "      <th>1</th>\n",
       "      <td>[NOS] [CRMPUS-302] Chapter DS</td>\n",
       "      <td>2022-03-02</td>\n",
       "      <td>2.5</td>\n",
       "    </tr>\n",
       "  </tbody>\n",
       "</table>\n",
       "</div>"
      ],
      "text/plain": [
       "                                                name        date  timeSpent\n",
       "0  [NOS] [CRMPUS-304] Sprint Planning + Rituals S...  2022-03-02        1.0\n",
       "1                      [NOS] [CRMPUS-302] Chapter DS  2022-03-02        2.5"
      ]
     },
     "execution_count": 3,
     "metadata": {},
     "output_type": "execute_result"
    }
   ],
   "source": [
    "march"
   ]
  },
  {
   "cell_type": "code",
   "execution_count": 4,
   "metadata": {},
   "outputs": [
    {
     "data": {
      "text/html": [
       "<div>\n",
       "<style scoped>\n",
       "    .dataframe tbody tr th:only-of-type {\n",
       "        vertical-align: middle;\n",
       "    }\n",
       "\n",
       "    .dataframe tbody tr th {\n",
       "        vertical-align: top;\n",
       "    }\n",
       "\n",
       "    .dataframe thead th {\n",
       "        text-align: right;\n",
       "    }\n",
       "</style>\n",
       "<table border=\"1\" class=\"dataframe\">\n",
       "  <thead>\n",
       "    <tr style=\"text-align: right;\">\n",
       "      <th></th>\n",
       "      <th>name</th>\n",
       "      <th>date</th>\n",
       "      <th>timeSpent</th>\n",
       "    </tr>\n",
       "  </thead>\n",
       "  <tbody>\n",
       "    <tr>\n",
       "      <th>0</th>\n",
       "      <td>[NOS] [CRMPUS-307] Overview do código do módul...</td>\n",
       "      <td>2022-03-02</td>\n",
       "      <td>2.0</td>\n",
       "    </tr>\n",
       "    <tr>\n",
       "      <th>1</th>\n",
       "      <td>[NOS] [CRMPUS-302] Chapter DS</td>\n",
       "      <td>2022-03-02</td>\n",
       "      <td>3.0</td>\n",
       "    </tr>\n",
       "    <tr>\n",
       "      <th>2</th>\n",
       "      <td>[NOS] [CRMPUS-304] Sprint Planning + Rituals S...</td>\n",
       "      <td>2022-03-02</td>\n",
       "      <td>1.0</td>\n",
       "    </tr>\n",
       "    <tr>\n",
       "      <th>3</th>\n",
       "      <td>[NOS] [CRMPUS-303] Daily Execution Sprint 23</td>\n",
       "      <td>2022-03-02</td>\n",
       "      <td>1.0</td>\n",
       "    </tr>\n",
       "    <tr>\n",
       "      <th>4</th>\n",
       "      <td>[NOS] [CRMPUS-307] Overview do código do módul...</td>\n",
       "      <td>2022-03-03</td>\n",
       "      <td>6.0</td>\n",
       "    </tr>\n",
       "    <tr>\n",
       "      <th>...</th>\n",
       "      <td>...</td>\n",
       "      <td>...</td>\n",
       "      <td>...</td>\n",
       "    </tr>\n",
       "    <tr>\n",
       "      <th>65</th>\n",
       "      <td>[NOS] [CRMPUS-309] Definir a periodicidade par...</td>\n",
       "      <td>2022-03-30</td>\n",
       "      <td>1.0</td>\n",
       "    </tr>\n",
       "    <tr>\n",
       "      <th>66</th>\n",
       "      <td>[NOS] [CRMPUS-308] Definição e criação das tab...</td>\n",
       "      <td>2022-03-31</td>\n",
       "      <td>2.0</td>\n",
       "    </tr>\n",
       "    <tr>\n",
       "      <th>67</th>\n",
       "      <td>[NOS] [CRMPUS-332] Sprint Planning + Rituals S...</td>\n",
       "      <td>2022-03-31</td>\n",
       "      <td>1.0</td>\n",
       "    </tr>\n",
       "    <tr>\n",
       "      <th>68</th>\n",
       "      <td>[NOS] [CRMPUS-336] Implementar/testar end-to-e...</td>\n",
       "      <td>2022-03-31</td>\n",
       "      <td>3.0</td>\n",
       "    </tr>\n",
       "    <tr>\n",
       "      <th>69</th>\n",
       "      <td>[NOS] [CRMPUS-309] Definir a periodicidade par...</td>\n",
       "      <td>2022-03-31</td>\n",
       "      <td>1.0</td>\n",
       "    </tr>\n",
       "  </tbody>\n",
       "</table>\n",
       "<p>70 rows × 3 columns</p>\n",
       "</div>"
      ],
      "text/plain": [
       "                                                 name        date  timeSpent\n",
       "0   [NOS] [CRMPUS-307] Overview do código do módul...  2022-03-02        2.0\n",
       "1                       [NOS] [CRMPUS-302] Chapter DS  2022-03-02        3.0\n",
       "2   [NOS] [CRMPUS-304] Sprint Planning + Rituals S...  2022-03-02        1.0\n",
       "3        [NOS] [CRMPUS-303] Daily Execution Sprint 23  2022-03-02        1.0\n",
       "4   [NOS] [CRMPUS-307] Overview do código do módul...  2022-03-03        6.0\n",
       "..                                                ...         ...        ...\n",
       "65  [NOS] [CRMPUS-309] Definir a periodicidade par...  2022-03-30        1.0\n",
       "66  [NOS] [CRMPUS-308] Definição e criação das tab...  2022-03-31        2.0\n",
       "67  [NOS] [CRMPUS-332] Sprint Planning + Rituals S...  2022-03-31        1.0\n",
       "68  [NOS] [CRMPUS-336] Implementar/testar end-to-e...  2022-03-31        3.0\n",
       "69  [NOS] [CRMPUS-309] Definir a periodicidade par...  2022-03-31        1.0\n",
       "\n",
       "[70 rows x 3 columns]"
      ]
     },
     "execution_count": 4,
     "metadata": {},
     "output_type": "execute_result"
    }
   ],
   "source": [
    "march_v2 = pd.read_csv('../Timely/data/March2022.csv')\n",
    "march_v2"
   ]
  },
  {
   "cell_type": "code",
   "execution_count": 5,
   "metadata": {},
   "outputs": [],
   "source": [
    "#march_v2['StartTime'] = march_v2[['date', 'timeSpent']].apply(lambda x: next(x[1]), axis=1)"
   ]
  },
  {
   "cell_type": "markdown",
   "metadata": {},
   "source": [
    "## "
   ]
  },
  {
   "attachments": {
    "30aa61f7-cd45-49da-b13f-19473ef045cb.png": {
     "image/png": "[encoded data removed]"
    }
   },
   "cell_type": "markdown",
   "metadata": {},
   "source": [
    "![image.png](attachment:30aa61f7-cd45-49da-b13f-19473ef045cb.png)"
   ]
  },
  {
   "cell_type": "code",
   "execution_count": 6,
   "metadata": {},
   "outputs": [
    {
     "data": {
      "text/html": [
       "<div>\n",
       "<style scoped>\n",
       "    .dataframe tbody tr th:only-of-type {\n",
       "        vertical-align: middle;\n",
       "    }\n",
       "\n",
       "    .dataframe tbody tr th {\n",
       "        vertical-align: top;\n",
       "    }\n",
       "\n",
       "    .dataframe thead th {\n",
       "        text-align: right;\n",
       "    }\n",
       "</style>\n",
       "<table border=\"1\" class=\"dataframe\">\n",
       "  <thead>\n",
       "    <tr style=\"text-align: right;\">\n",
       "      <th></th>\n",
       "      <th>Subject</th>\n",
       "      <th>Start Date</th>\n",
       "      <th>timeSpent</th>\n",
       "    </tr>\n",
       "  </thead>\n",
       "  <tbody>\n",
       "    <tr>\n",
       "      <th>0</th>\n",
       "      <td>[NOS] [CRMPUS-307] Overview do código do módul...</td>\n",
       "      <td>03/02/2022</td>\n",
       "      <td>2.0</td>\n",
       "    </tr>\n",
       "    <tr>\n",
       "      <th>1</th>\n",
       "      <td>[NOS] [CRMPUS-302] Chapter DS</td>\n",
       "      <td>03/02/2022</td>\n",
       "      <td>3.0</td>\n",
       "    </tr>\n",
       "    <tr>\n",
       "      <th>2</th>\n",
       "      <td>[NOS] [CRMPUS-304] Sprint Planning + Rituals S...</td>\n",
       "      <td>03/02/2022</td>\n",
       "      <td>1.0</td>\n",
       "    </tr>\n",
       "    <tr>\n",
       "      <th>3</th>\n",
       "      <td>[NOS] [CRMPUS-303] Daily Execution Sprint 23</td>\n",
       "      <td>03/02/2022</td>\n",
       "      <td>1.0</td>\n",
       "    </tr>\n",
       "    <tr>\n",
       "      <th>4</th>\n",
       "      <td>[NOS] [CRMPUS-307] Overview do código do módul...</td>\n",
       "      <td>03/03/2022</td>\n",
       "      <td>6.0</td>\n",
       "    </tr>\n",
       "    <tr>\n",
       "      <th>...</th>\n",
       "      <td>...</td>\n",
       "      <td>...</td>\n",
       "      <td>...</td>\n",
       "    </tr>\n",
       "    <tr>\n",
       "      <th>65</th>\n",
       "      <td>[NOS] [CRMPUS-309] Definir a periodicidade par...</td>\n",
       "      <td>03/30/2022</td>\n",
       "      <td>1.0</td>\n",
       "    </tr>\n",
       "    <tr>\n",
       "      <th>66</th>\n",
       "      <td>[NOS] [CRMPUS-308] Definição e criação das tab...</td>\n",
       "      <td>03/31/2022</td>\n",
       "      <td>2.0</td>\n",
       "    </tr>\n",
       "    <tr>\n",
       "      <th>67</th>\n",
       "      <td>[NOS] [CRMPUS-332] Sprint Planning + Rituals S...</td>\n",
       "      <td>03/31/2022</td>\n",
       "      <td>1.0</td>\n",
       "    </tr>\n",
       "    <tr>\n",
       "      <th>68</th>\n",
       "      <td>[NOS] [CRMPUS-336] Implementar/testar end-to-e...</td>\n",
       "      <td>03/31/2022</td>\n",
       "      <td>3.0</td>\n",
       "    </tr>\n",
       "    <tr>\n",
       "      <th>69</th>\n",
       "      <td>[NOS] [CRMPUS-309] Definir a periodicidade par...</td>\n",
       "      <td>03/31/2022</td>\n",
       "      <td>1.0</td>\n",
       "    </tr>\n",
       "  </tbody>\n",
       "</table>\n",
       "<p>70 rows × 3 columns</p>\n",
       "</div>"
      ],
      "text/plain": [
       "                                              Subject  Start Date  timeSpent\n",
       "0   [NOS] [CRMPUS-307] Overview do código do módul...  03/02/2022        2.0\n",
       "1                       [NOS] [CRMPUS-302] Chapter DS  03/02/2022        3.0\n",
       "2   [NOS] [CRMPUS-304] Sprint Planning + Rituals S...  03/02/2022        1.0\n",
       "3        [NOS] [CRMPUS-303] Daily Execution Sprint 23  03/02/2022        1.0\n",
       "4   [NOS] [CRMPUS-307] Overview do código do módul...  03/03/2022        6.0\n",
       "..                                                ...         ...        ...\n",
       "65  [NOS] [CRMPUS-309] Definir a periodicidade par...  03/30/2022        1.0\n",
       "66  [NOS] [CRMPUS-308] Definição e criação das tab...  03/31/2022        2.0\n",
       "67  [NOS] [CRMPUS-332] Sprint Planning + Rituals S...  03/31/2022        1.0\n",
       "68  [NOS] [CRMPUS-336] Implementar/testar end-to-e...  03/31/2022        3.0\n",
       "69  [NOS] [CRMPUS-309] Definir a periodicidade par...  03/31/2022        1.0\n",
       "\n",
       "[70 rows x 3 columns]"
      ]
     },
     "execution_count": 6,
     "metadata": {},
     "output_type": "execute_result"
    }
   ],
   "source": [
    "march_v3 = march_v2.rename(columns={'name': 'Subject', 'date': 'Start Date'})\n",
    "march_v3['Start Date'] = march_v3['Start Date'].map(lambda x: ('/').join([x.split('-')[1], x.split('-')[2], x.split('-')[0]]))\n",
    "march_v3"
   ]
  },
  {
   "cell_type": "code",
   "execution_count": 7,
   "metadata": {},
   "outputs": [
    {
     "data": {
      "text/html": [
       "<div>\n",
       "<style scoped>\n",
       "    .dataframe tbody tr th:only-of-type {\n",
       "        vertical-align: middle;\n",
       "    }\n",
       "\n",
       "    .dataframe tbody tr th {\n",
       "        vertical-align: top;\n",
       "    }\n",
       "\n",
       "    .dataframe thead th {\n",
       "        text-align: right;\n",
       "    }\n",
       "</style>\n",
       "<table border=\"1\" class=\"dataframe\">\n",
       "  <thead>\n",
       "    <tr style=\"text-align: right;\">\n",
       "      <th></th>\n",
       "      <th>Subject</th>\n",
       "      <th>Start Date</th>\n",
       "      <th>timeSpent</th>\n",
       "    </tr>\n",
       "  </thead>\n",
       "  <tbody>\n",
       "    <tr>\n",
       "      <th>0</th>\n",
       "      <td>[NOS] [CRMPUS-307] Overview do código do módul...</td>\n",
       "      <td>03/02/2022</td>\n",
       "      <td>2.0</td>\n",
       "    </tr>\n",
       "    <tr>\n",
       "      <th>1</th>\n",
       "      <td>[NOS] [CRMPUS-302] Chapter DS</td>\n",
       "      <td>03/02/2022</td>\n",
       "      <td>3.0</td>\n",
       "    </tr>\n",
       "    <tr>\n",
       "      <th>2</th>\n",
       "      <td>[NOS] [CRMPUS-304] Sprint Planning + Rituals S...</td>\n",
       "      <td>03/02/2022</td>\n",
       "      <td>1.0</td>\n",
       "    </tr>\n",
       "    <tr>\n",
       "      <th>3</th>\n",
       "      <td>[NOS] [CRMPUS-303] Daily Execution Sprint 23</td>\n",
       "      <td>03/02/2022</td>\n",
       "      <td>1.0</td>\n",
       "    </tr>\n",
       "    <tr>\n",
       "      <th>4</th>\n",
       "      <td>[NOS] [CRMPUS-307] Overview do código do módul...</td>\n",
       "      <td>03/03/2022</td>\n",
       "      <td>6.0</td>\n",
       "    </tr>\n",
       "    <tr>\n",
       "      <th>...</th>\n",
       "      <td>...</td>\n",
       "      <td>...</td>\n",
       "      <td>...</td>\n",
       "    </tr>\n",
       "    <tr>\n",
       "      <th>65</th>\n",
       "      <td>[NOS] [CRMPUS-309] Definir a periodicidade par...</td>\n",
       "      <td>03/30/2022</td>\n",
       "      <td>1.0</td>\n",
       "    </tr>\n",
       "    <tr>\n",
       "      <th>66</th>\n",
       "      <td>[NOS] [CRMPUS-308] Definição e criação das tab...</td>\n",
       "      <td>03/31/2022</td>\n",
       "      <td>2.0</td>\n",
       "    </tr>\n",
       "    <tr>\n",
       "      <th>67</th>\n",
       "      <td>[NOS] [CRMPUS-332] Sprint Planning + Rituals S...</td>\n",
       "      <td>03/31/2022</td>\n",
       "      <td>1.0</td>\n",
       "    </tr>\n",
       "    <tr>\n",
       "      <th>68</th>\n",
       "      <td>[NOS] [CRMPUS-336] Implementar/testar end-to-e...</td>\n",
       "      <td>03/31/2022</td>\n",
       "      <td>3.0</td>\n",
       "    </tr>\n",
       "    <tr>\n",
       "      <th>69</th>\n",
       "      <td>[NOS] [CRMPUS-309] Definir a periodicidade par...</td>\n",
       "      <td>03/31/2022</td>\n",
       "      <td>1.0</td>\n",
       "    </tr>\n",
       "  </tbody>\n",
       "</table>\n",
       "<p>70 rows × 3 columns</p>\n",
       "</div>"
      ],
      "text/plain": [
       "                                              Subject  Start Date  timeSpent\n",
       "0   [NOS] [CRMPUS-307] Overview do código do módul...  03/02/2022        2.0\n",
       "1                       [NOS] [CRMPUS-302] Chapter DS  03/02/2022        3.0\n",
       "2   [NOS] [CRMPUS-304] Sprint Planning + Rituals S...  03/02/2022        1.0\n",
       "3        [NOS] [CRMPUS-303] Daily Execution Sprint 23  03/02/2022        1.0\n",
       "4   [NOS] [CRMPUS-307] Overview do código do módul...  03/03/2022        6.0\n",
       "..                                                ...         ...        ...\n",
       "65  [NOS] [CRMPUS-309] Definir a periodicidade par...  03/30/2022        1.0\n",
       "66  [NOS] [CRMPUS-308] Definição e criação das tab...  03/31/2022        2.0\n",
       "67  [NOS] [CRMPUS-332] Sprint Planning + Rituals S...  03/31/2022        1.0\n",
       "68  [NOS] [CRMPUS-336] Implementar/testar end-to-e...  03/31/2022        3.0\n",
       "69  [NOS] [CRMPUS-309] Definir a periodicidade par...  03/31/2022        1.0\n",
       "\n",
       "[70 rows x 3 columns]"
      ]
     },
     "execution_count": 7,
     "metadata": {},
     "output_type": "execute_result"
    }
   ],
   "source": [
    "march_v3"
   ]
  },
  {
   "cell_type": "code",
   "execution_count": 8,
   "metadata": {},
   "outputs": [
    {
     "data": {
      "text/plain": [
       "0     0.0\n",
       "1     0.0\n",
       "2     0.0\n",
       "3     0.0\n",
       "4     0.0\n",
       "     ... \n",
       "65    0.0\n",
       "66    0.0\n",
       "67    0.0\n",
       "68    0.0\n",
       "69    0.0\n",
       "Name: timeSpent, Length: 70, dtype: float64"
      ]
     },
     "execution_count": 8,
     "metadata": {},
     "output_type": "execute_result"
    }
   ],
   "source": [
    "march_v3['timeSpent'].map(lambda x: (x*60)%60)"
   ]
  },
  {
   "cell_type": "code",
   "execution_count": 9,
   "metadata": {},
   "outputs": [
    {
     "data": {
      "text/plain": [
       "30"
      ]
     },
     "execution_count": 9,
     "metadata": {},
     "output_type": "execute_result"
    }
   ],
   "source": [
    "int((2.5*60)%60)"
   ]
  },
  {
   "cell_type": "code",
   "execution_count": 10,
   "metadata": {},
   "outputs": [
    {
     "data": {
      "text/plain": [
       "15.0"
      ]
     },
     "execution_count": 10,
     "metadata": {},
     "output_type": "execute_result"
    }
   ],
   "source": [
    "(2.25*60)%60"
   ]
  },
  {
   "cell_type": "code",
   "execution_count": 11,
   "metadata": {},
   "outputs": [
    {
     "data": {
      "text/plain": [
       "2"
      ]
     },
     "execution_count": 11,
     "metadata": {},
     "output_type": "execute_result"
    }
   ],
   "source": [
    "int(2.9)"
   ]
  },
  {
   "cell_type": "code",
   "execution_count": 12,
   "metadata": {},
   "outputs": [],
   "source": [
    "march_v3['Start Time'] = \"09:00\""
   ]
  },
  {
   "cell_type": "code",
   "execution_count": 13,
   "metadata": {},
   "outputs": [],
   "source": [
    "march_v3['End Time'] = march_v3['timeSpent'].map(lambda x: datetime.datetime.strptime(f\"{9+int(x)}:{int((x*60)%60)}\", \"%H:%M\").strftime(\"%H:%M\"))"
   ]
  },
  {
   "cell_type": "code",
   "execution_count": 14,
   "metadata": {},
   "outputs": [
    {
     "data": {
      "text/html": [
       "<div>\n",
       "<style scoped>\n",
       "    .dataframe tbody tr th:only-of-type {\n",
       "        vertical-align: middle;\n",
       "    }\n",
       "\n",
       "    .dataframe tbody tr th {\n",
       "        vertical-align: top;\n",
       "    }\n",
       "\n",
       "    .dataframe thead th {\n",
       "        text-align: right;\n",
       "    }\n",
       "</style>\n",
       "<table border=\"1\" class=\"dataframe\">\n",
       "  <thead>\n",
       "    <tr style=\"text-align: right;\">\n",
       "      <th></th>\n",
       "      <th>Subject</th>\n",
       "      <th>Start Date</th>\n",
       "      <th>timeSpent</th>\n",
       "      <th>Start Time</th>\n",
       "      <th>End Time</th>\n",
       "    </tr>\n",
       "  </thead>\n",
       "  <tbody>\n",
       "    <tr>\n",
       "      <th>0</th>\n",
       "      <td>[NOS] [CRMPUS-307] Overview do código do módul...</td>\n",
       "      <td>03/02/2022</td>\n",
       "      <td>2.0</td>\n",
       "      <td>09:00</td>\n",
       "      <td>11:00</td>\n",
       "    </tr>\n",
       "    <tr>\n",
       "      <th>1</th>\n",
       "      <td>[NOS] [CRMPUS-302] Chapter DS</td>\n",
       "      <td>03/02/2022</td>\n",
       "      <td>3.0</td>\n",
       "      <td>09:00</td>\n",
       "      <td>12:00</td>\n",
       "    </tr>\n",
       "    <tr>\n",
       "      <th>2</th>\n",
       "      <td>[NOS] [CRMPUS-304] Sprint Planning + Rituals S...</td>\n",
       "      <td>03/02/2022</td>\n",
       "      <td>1.0</td>\n",
       "      <td>09:00</td>\n",
       "      <td>10:00</td>\n",
       "    </tr>\n",
       "    <tr>\n",
       "      <th>3</th>\n",
       "      <td>[NOS] [CRMPUS-303] Daily Execution Sprint 23</td>\n",
       "      <td>03/02/2022</td>\n",
       "      <td>1.0</td>\n",
       "      <td>09:00</td>\n",
       "      <td>10:00</td>\n",
       "    </tr>\n",
       "    <tr>\n",
       "      <th>4</th>\n",
       "      <td>[NOS] [CRMPUS-307] Overview do código do módul...</td>\n",
       "      <td>03/03/2022</td>\n",
       "      <td>6.0</td>\n",
       "      <td>09:00</td>\n",
       "      <td>15:00</td>\n",
       "    </tr>\n",
       "    <tr>\n",
       "      <th>...</th>\n",
       "      <td>...</td>\n",
       "      <td>...</td>\n",
       "      <td>...</td>\n",
       "      <td>...</td>\n",
       "      <td>...</td>\n",
       "    </tr>\n",
       "    <tr>\n",
       "      <th>65</th>\n",
       "      <td>[NOS] [CRMPUS-309] Definir a periodicidade par...</td>\n",
       "      <td>03/30/2022</td>\n",
       "      <td>1.0</td>\n",
       "      <td>09:00</td>\n",
       "      <td>10:00</td>\n",
       "    </tr>\n",
       "    <tr>\n",
       "      <th>66</th>\n",
       "      <td>[NOS] [CRMPUS-308] Definição e criação das tab...</td>\n",
       "      <td>03/31/2022</td>\n",
       "      <td>2.0</td>\n",
       "      <td>09:00</td>\n",
       "      <td>11:00</td>\n",
       "    </tr>\n",
       "    <tr>\n",
       "      <th>67</th>\n",
       "      <td>[NOS] [CRMPUS-332] Sprint Planning + Rituals S...</td>\n",
       "      <td>03/31/2022</td>\n",
       "      <td>1.0</td>\n",
       "      <td>09:00</td>\n",
       "      <td>10:00</td>\n",
       "    </tr>\n",
       "    <tr>\n",
       "      <th>68</th>\n",
       "      <td>[NOS] [CRMPUS-336] Implementar/testar end-to-e...</td>\n",
       "      <td>03/31/2022</td>\n",
       "      <td>3.0</td>\n",
       "      <td>09:00</td>\n",
       "      <td>12:00</td>\n",
       "    </tr>\n",
       "    <tr>\n",
       "      <th>69</th>\n",
       "      <td>[NOS] [CRMPUS-309] Definir a periodicidade par...</td>\n",
       "      <td>03/31/2022</td>\n",
       "      <td>1.0</td>\n",
       "      <td>09:00</td>\n",
       "      <td>10:00</td>\n",
       "    </tr>\n",
       "  </tbody>\n",
       "</table>\n",
       "<p>70 rows × 5 columns</p>\n",
       "</div>"
      ],
      "text/plain": [
       "                                              Subject  Start Date  timeSpent  \\\n",
       "0   [NOS] [CRMPUS-307] Overview do código do módul...  03/02/2022        2.0   \n",
       "1                       [NOS] [CRMPUS-302] Chapter DS  03/02/2022        3.0   \n",
       "2   [NOS] [CRMPUS-304] Sprint Planning + Rituals S...  03/02/2022        1.0   \n",
       "3        [NOS] [CRMPUS-303] Daily Execution Sprint 23  03/02/2022        1.0   \n",
       "4   [NOS] [CRMPUS-307] Overview do código do módul...  03/03/2022        6.0   \n",
       "..                                                ...         ...        ...   \n",
       "65  [NOS] [CRMPUS-309] Definir a periodicidade par...  03/30/2022        1.0   \n",
       "66  [NOS] [CRMPUS-308] Definição e criação das tab...  03/31/2022        2.0   \n",
       "67  [NOS] [CRMPUS-332] Sprint Planning + Rituals S...  03/31/2022        1.0   \n",
       "68  [NOS] [CRMPUS-336] Implementar/testar end-to-e...  03/31/2022        3.0   \n",
       "69  [NOS] [CRMPUS-309] Definir a periodicidade par...  03/31/2022        1.0   \n",
       "\n",
       "   Start Time End Time  \n",
       "0       09:00    11:00  \n",
       "1       09:00    12:00  \n",
       "2       09:00    10:00  \n",
       "3       09:00    10:00  \n",
       "4       09:00    15:00  \n",
       "..        ...      ...  \n",
       "65      09:00    10:00  \n",
       "66      09:00    11:00  \n",
       "67      09:00    10:00  \n",
       "68      09:00    12:00  \n",
       "69      09:00    10:00  \n",
       "\n",
       "[70 rows x 5 columns]"
      ]
     },
     "execution_count": 14,
     "metadata": {},
     "output_type": "execute_result"
    }
   ],
   "source": [
    "march_v3"
   ]
  },
  {
   "cell_type": "code",
   "execution_count": 18,
   "metadata": {},
   "outputs": [],
   "source": [
    "march_v3[['Subject', 'Start Date', 'Start Time', 'End Time']].to_csv('data/march_2022.csv', index=False)"
   ]
  },
  {
   "cell_type": "code",
   "execution_count": 19,
   "metadata": {},
   "outputs": [],
   "source": [
    "march_v3[march_v3['Start Date'] == \"03/08/2022\"].to_csv('data/march_2022_test.csv', index=False)"
   ]
  },
  {
   "cell_type": "code",
   "execution_count": 20,
   "metadata": {},
   "outputs": [
    {
     "data": {
      "text/html": [
       "<div>\n",
       "<style scoped>\n",
       "    .dataframe tbody tr th:only-of-type {\n",
       "        vertical-align: middle;\n",
       "    }\n",
       "\n",
       "    .dataframe tbody tr th {\n",
       "        vertical-align: top;\n",
       "    }\n",
       "\n",
       "    .dataframe thead th {\n",
       "        text-align: right;\n",
       "    }\n",
       "</style>\n",
       "<table border=\"1\" class=\"dataframe\">\n",
       "  <thead>\n",
       "    <tr style=\"text-align: right;\">\n",
       "      <th></th>\n",
       "      <th>Subject</th>\n",
       "      <th>Start Date</th>\n",
       "      <th>timeSpent</th>\n",
       "      <th>Start Time</th>\n",
       "      <th>End Time</th>\n",
       "    </tr>\n",
       "  </thead>\n",
       "  <tbody>\n",
       "    <tr>\n",
       "      <th>12</th>\n",
       "      <td>[NOS] [CRMPUS-320] Daily Execution Sprint 24</td>\n",
       "      <td>03/08/2022</td>\n",
       "      <td>1.500000</td>\n",
       "      <td>09:00</td>\n",
       "      <td>10:30</td>\n",
       "    </tr>\n",
       "    <tr>\n",
       "      <th>13</th>\n",
       "      <td>[NOS] [CRMPUS-320] Daily Execution Sprint 24</td>\n",
       "      <td>03/08/2022</td>\n",
       "      <td>0.333333</td>\n",
       "      <td>09:00</td>\n",
       "      <td>09:20</td>\n",
       "    </tr>\n",
       "    <tr>\n",
       "      <th>14</th>\n",
       "      <td>[NOS] [CRMPUS-322] Brainstorming para o projet...</td>\n",
       "      <td>03/08/2022</td>\n",
       "      <td>1.000000</td>\n",
       "      <td>09:00</td>\n",
       "      <td>10:00</td>\n",
       "    </tr>\n",
       "    <tr>\n",
       "      <th>15</th>\n",
       "      <td>[NOS] [CRMPUS-308] Definição e criação das tab...</td>\n",
       "      <td>03/08/2022</td>\n",
       "      <td>1.000000</td>\n",
       "      <td>09:00</td>\n",
       "      <td>10:00</td>\n",
       "    </tr>\n",
       "    <tr>\n",
       "      <th>16</th>\n",
       "      <td>[NOS] [CRMPUS-317] Chapter DS</td>\n",
       "      <td>03/08/2022</td>\n",
       "      <td>3.000000</td>\n",
       "      <td>09:00</td>\n",
       "      <td>12:00</td>\n",
       "    </tr>\n",
       "    <tr>\n",
       "      <th>17</th>\n",
       "      <td>[NOS] [CRMPUS-319] Sprint Planning + Rituals S...</td>\n",
       "      <td>03/08/2022</td>\n",
       "      <td>0.500000</td>\n",
       "      <td>09:00</td>\n",
       "      <td>09:30</td>\n",
       "    </tr>\n",
       "  </tbody>\n",
       "</table>\n",
       "</div>"
      ],
      "text/plain": [
       "                                              Subject  Start Date  timeSpent  \\\n",
       "12       [NOS] [CRMPUS-320] Daily Execution Sprint 24  03/08/2022   1.500000   \n",
       "13       [NOS] [CRMPUS-320] Daily Execution Sprint 24  03/08/2022   0.333333   \n",
       "14  [NOS] [CRMPUS-322] Brainstorming para o projet...  03/08/2022   1.000000   \n",
       "15  [NOS] [CRMPUS-308] Definição e criação das tab...  03/08/2022   1.000000   \n",
       "16                      [NOS] [CRMPUS-317] Chapter DS  03/08/2022   3.000000   \n",
       "17  [NOS] [CRMPUS-319] Sprint Planning + Rituals S...  03/08/2022   0.500000   \n",
       "\n",
       "   Start Time End Time  \n",
       "12      09:00    10:30  \n",
       "13      09:00    09:20  \n",
       "14      09:00    10:00  \n",
       "15      09:00    10:00  \n",
       "16      09:00    12:00  \n",
       "17      09:00    09:30  "
      ]
     },
     "execution_count": 20,
     "metadata": {},
     "output_type": "execute_result"
    }
   ],
   "source": [
    "march_v3[march_v3['Start Date'] == \"03/08/2022\"]"
   ]
  },
  {
   "cell_type": "code",
   "execution_count": 21,
   "metadata": {},
   "outputs": [
    {
     "data": {
      "text/plain": [
       "22"
      ]
     },
     "execution_count": 21,
     "metadata": {},
     "output_type": "execute_result"
    }
   ],
   "source": [
    "march_v3['Start Date'].nunique()"
   ]
  },
  {
   "cell_type": "code",
   "execution_count": 22,
   "metadata": {},
   "outputs": [
    {
     "data": {
      "text/plain": [
       "154.5"
      ]
     },
     "execution_count": 22,
     "metadata": {},
     "output_type": "execute_result"
    }
   ],
   "source": [
    "march_v3['timeSpent'].sum()"
   ]
  },
  {
   "cell_type": "code",
   "execution_count": 35,
   "metadata": {},
   "outputs": [
    {
     "data": {
      "text/plain": [
       "'4635 € HT'"
      ]
     },
     "execution_count": 35,
     "metadata": {},
     "output_type": "execute_result"
    }
   ],
   "source": [
    "f\"{round(march_v3['timeSpent'].sum()*30)} € HT\""
   ]
  },
  {
   "cell_type": "code",
   "execution_count": null,
   "metadata": {},
   "outputs": [],
   "source": []
  },
  {
   "cell_type": "code",
   "execution_count": null,
   "metadata": {},
   "outputs": [],
   "source": []
  },
  {
   "cell_type": "code",
   "execution_count": null,
   "metadata": {},
   "outputs": [],
   "source": []
  }
 ],
 "metadata": {
  "kernelspec": {
   "display_name": "Python 3",
   "language": "python",
   "name": "python3"
  },
  "language_info": {
   "codemirror_mode": {
    "name": "ipython",
    "version": 3
   },
   "file_extension": ".py",
   "mimetype": "text/x-python",
   "name": "python",
   "nbconvert_exporter": "python",
   "pygments_lexer": "ipython3",
   "version": "3.7.7"
  }
 },
 "nbformat": 4,
 "nbformat_minor": 4
}
